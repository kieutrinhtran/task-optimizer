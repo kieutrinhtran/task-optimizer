{
 "cells": [
  {
   "cell_type": "code",
   "execution_count": 1,
   "metadata": {},
   "outputs": [],
   "source": [
    "import pandas as pd\n",
    "import os\n",
    "from openpyxl import load_workbook\n",
    "import warnings\n",
    "\n",
    "# Tắt cảnh báo từ openpyxl\n",
    "warnings.filterwarnings(\"ignore\", category=UserWarning, module=\"openpyxl\")"
   ]
  },
  {
   "cell_type": "code",
   "execution_count": 11,
   "metadata": {},
   "outputs": [],
   "source": [
    "# Đường dẫn tới folder chứa các file Excel cần gộp\n",
    "folder_path = r\"C:\\Users\\Trinh\\Downloads\\KD 41-100\"\n",
    "\n",
    "# Danh sách các cột cần giữ lại\n",
    "columns_to_keep = [\n",
    "    \"Keyword\",\n",
    "    \"Position\",\n",
    "    \"Search Volume\",\n",
    "    \"Keyword Difficulty\",\n",
    "    \"URL\",\n",
    "    \"Traffic\",\n",
    "    \"SERP Features by Keyword\",\n",
    "    \"Keyword Intents\"\n",
    "]"
   ]
  },
  {
   "cell_type": "code",
   "execution_count": 12,
   "metadata": {},
   "outputs": [
    {
     "name": "stdout",
     "output_type": "stream",
     "text": [
      "Đã duyệt file: tripadvisor.com-organic.Positions-us-20250117-2025-01-18T17_18_18Z.xlsx\n",
      "Đã duyệt file: tripadvisor.com-organic.Positions-us-20250117-2025-01-18T17_18_32Z.xlsx\n",
      "Đã duyệt file: tripadvisor.com-organic.Positions-us-20250117-2025-01-18T17_19_03Z.xlsx\n",
      "Đã duyệt file: tripadvisor.com-organic.Positions-us-20250117-2025-01-18T17_19_41Z.xlsx\n",
      "Đã duyệt file: tripadvisor.com-organic.Positions-us-20250117-2025-01-18T17_19_58Z.xlsx\n",
      "Đã duyệt file: tripadvisor.com-organic.Positions-us-20250117-2025-01-18T17_20_17Z.xlsx\n",
      "Đã duyệt file: tripadvisor.com-organic.Positions-us-20250117-2025-01-18T17_20_33Z.xlsx\n",
      "Đã duyệt file: tripadvisor.com-organic.Positions-us-20250117-2025-01-18T17_20_47Z.xlsx\n",
      "Đã duyệt file: tripadvisor.com-organic.Positions-us-20250117-2025-01-18T17_21_01Z.xlsx\n",
      "Đã duyệt file: tripadvisor.com-organic.Positions-us-20250117-2025-01-18T17_21_15Z.xlsx\n",
      "Đã duyệt file: tripadvisor.com-organic.Positions-us-20250117-2025-01-18T17_21_36Z.xlsx\n",
      "Đã duyệt file: tripadvisor.com-organic.Positions-us-20250117-2025-01-18T17_21_56Z.xlsx\n",
      "Đã duyệt file: tripadvisor.com-organic.Positions-us-20250117-2025-01-18T17_22_46Z.xlsx\n",
      "Đã duyệt file: tripadvisor.com-organic.Positions-us-20250117-2025-01-18T17_23_00Z.xlsx\n",
      "Đã duyệt file: tripadvisor.com-organic.Positions-us-20250117-2025-01-18T17_23_10Z.xlsx\n",
      "Đã duyệt file: tripadvisor.com-organic.Positions-us-20250117-2025-01-18T17_24_12Z.xlsx\n",
      "Đã duyệt file: tripadvisor.com-organic.Positions-us-20250117-2025-01-18T17_25_02Z.xlsx\n",
      "Đã duyệt file: tripadvisor.com-organic.Positions-us-20250117-2025-01-18T17_25_22Z.xlsx\n",
      "Đã duyệt file: tripadvisor.com-organic.Positions-us-20250117-2025-01-18T17_25_34Z.xlsx\n",
      "Đã duyệt file: tripadvisor.com-organic.Positions-us-20250117-2025-01-18T17_25_50Z.xlsx\n",
      "Đã duyệt file: tripadvisor.com-organic.Positions-us-20250117-2025-01-18T17_26_03Z.xlsx\n",
      "Đã duyệt file: tripadvisor.com-organic.Positions-us-20250117-2025-01-18T17_26_20Z.xlsx\n",
      "Đã duyệt file: tripadvisor.com-organic.Positions-us-20250117-2025-01-18T17_27_10Z.xlsx\n",
      "Đã duyệt file: tripadvisor.com-organic.Positions-us-20250117-2025-01-18T17_27_22Z.xlsx\n",
      "Tổng số file đã duyệt: 24\n"
     ]
    }
   ],
   "source": [
    "# Tạo một DataFrame rỗng để lưu dữ liệu\n",
    "combined_data = pd.DataFrame()\n",
    "\n",
    "# Biến đếm số file đã duyệt\n",
    "file_count = 0\n",
    "\n",
    "# Duyệt qua tất cả các file trong folder\n",
    "for file_name in os.listdir(folder_path):\n",
    "    if file_name.endswith(\".xlsx\") or file_name.endswith(\".xls\"):\n",
    "        file_path = os.path.join(folder_path, file_name)\n",
    "        # Đọc file Excel\n",
    "        try:\n",
    "            df = pd.read_excel(file_path, engine=\"openpyxl\")\n",
    "            # Chỉ giữ lại các cột cần thiết\n",
    "            df = df[columns_to_keep]\n",
    "            # Gộp dữ liệu vào DataFrame chính\n",
    "            combined_data = pd.concat([combined_data, df], ignore_index=True)\n",
    "            file_count += 1\n",
    "            print(f\"Đã duyệt file: {file_name}\")\n",
    "        except Exception as e:\n",
    "            print(f\"Không thể đọc file {file_name}: {e}\")\n",
    "\n",
    "# In tổng số file đã duyệt\n",
    "print(f\"Tổng số file đã duyệt: {file_count}\")"
   ]
  },
  {
   "cell_type": "code",
   "execution_count": null,
   "metadata": {},
   "outputs": [],
   "source": [
    "# Xem trước 100 dòng dữ liệu gộp\n",
    "print(combined_data.head(100))"
   ]
  },
  {
   "cell_type": "code",
   "execution_count": 13,
   "metadata": {},
   "outputs": [
    {
     "name": "stdout",
     "output_type": "stream",
     "text": [
      "Dữ liệu đã được gộp và lưu tại: C:\\Users\\Trinh\\Downloads\\6_words_41-100.xlsx\n"
     ]
    }
   ],
   "source": [
    "# Lưu dữ liệu gộp thành file Excel, file này tự tạo mới ra nếu chưa tồn tại\n",
    "output_file = \"C:\\\\Users\\\\Trinh\\\\Downloads\\\\6_words_41-100.xlsx\"\n",
    "combined_data.to_excel(output_file, index=False, engine=\"openpyxl\")\n",
    "\n",
    "print(f\"Dữ liệu đã được gộp và lưu tại: {output_file}\")"
   ]
  }
 ],
 "metadata": {
  "kernelspec": {
   "display_name": "base",
   "language": "python",
   "name": "python3"
  },
  "language_info": {
   "codemirror_mode": {
    "name": "ipython",
    "version": 3
   },
   "file_extension": ".py",
   "mimetype": "text/x-python",
   "name": "python",
   "nbconvert_exporter": "python",
   "pygments_lexer": "ipython3",
   "version": "3.11.7"
  }
 },
 "nbformat": 4,
 "nbformat_minor": 2
}
