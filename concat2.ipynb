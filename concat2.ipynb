{
 "cells": [
  {
   "cell_type": "code",
   "execution_count": null,
   "metadata": {
    "vscode": {
     "languageId": "plaintext"
    }
   },
   "outputs": [],
   "source": [
    "import pandas as pd\n",
    "import os\n",
    "from openpyxl import load_workbook\n",
    "import warnings\n",
    "\n",
    "# Tắt cảnh báo từ openpyxl\n",
    "warnings.filterwarnings(\"ignore\", category=UserWarning, module=\"openpyxl\")\n",
    "\n",
    "# Đường dẫn tới folder chứa các file Excel\n",
    "folder_path = r\"C:\\Users\\Trinh\\Downloads\\35-45\"\n",
    "\n",
    "# Danh sách các cột cần giữ lại\n",
    "columns_to_keep = [\n",
    "    \"Keyword\",\n",
    "    \"Position\",\n",
    "    \"Search Volume\",\n",
    "    \"Keyword Difficulty\",\n",
    "    \"URL\",\n",
    "    \"Traffic\",\n",
    "    \"SERP Features by Keyword\",\n",
    "    \"Keyword Intents\"\n",
    "]"
   ]
  },
  {
   "cell_type": "code",
   "execution_count": null,
   "metadata": {
    "vscode": {
     "languageId": "plaintext"
    }
   },
   "outputs": [],
   "source": [
    "# Tạo một file Excel chung để lưu các sheet\n",
    "output_file = \"C:\\\\Users\\\\Trinh\\\\Downloads\\\\combined_output.xlsx\"\n",
    "with pd.ExcelWriter(output_file, engine=\"openpyxl\") as writer:\n",
    "    # Biến đếm số file đã duyệt\n",
    "    file_count = 0\n",
    "\n",
    "    # Duyệt qua tất cả các file trong folder\n",
    "    for file_name in os.listdir(folder_path):\n",
    "        if file_name.endswith(\".xlsx\") or file_name.endswith(\".xls\"):\n",
    "            file_path = os.path.join(folder_path, file_name)\n",
    "            # Đọc file Excel\n",
    "            try:\n",
    "                df = pd.read_excel(file_path, engine=\"openpyxl\")\n",
    "                # Chỉ giữ lại các cột cần thiết\n",
    "                df = df[columns_to_keep]\n",
    "                # Lưu dữ liệu vào một sheet trong file Excel chung\n",
    "                sheet_name = os.path.splitext(file_name)[0][:31]  # Tên sheet tối đa 31 ký tự\n",
    "                df.to_excel(writer, index=False, sheet_name=sheet_name)\n",
    "                file_count += 1\n",
    "                print(f\"Đã thêm file {file_name} vào sheet {sheet_name}\")\n",
    "            except Exception as e:\n",
    "                print(f\"Không thể đọc file {file_name}: {e}\")\n",
    "\n",
    "# In tổng số file đã xử lý\n",
    "print(f\"Tổng số file đã gộp: {file_count}\")\n",
    "print(f\"Dữ liệu đã được gộp và lưu tại: {output_file}\")\n"
   ]
  }
 ],
 "metadata": {
  "language_info": {
   "name": "python"
  }
 },
 "nbformat": 4,
 "nbformat_minor": 2
}
