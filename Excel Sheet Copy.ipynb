{
 "cells": [
  {
   "cell_type": "code",
   "execution_count": 28,
   "metadata": {},
   "outputs": [],
   "source": [
    "import os\n",
    "import pandas as pd"
   ]
  },
  {
   "cell_type": "code",
   "execution_count": 29,
   "metadata": {},
   "outputs": [],
   "source": [
    "def copy_sheets_from_folder_to_destination(input_folder, destination_file):\n",
    "    \"\"\"\n",
    "    Sao chép tất cả các sheet từ nhiều file Excel trong một thư mục vào một file Excel đích.\n",
    "    \n",
    "    Args:\n",
    "        input_folder (str): Đường dẫn thư mục chứa các file Excel nguồn.\n",
    "        destination_file (str): Đường dẫn file Excel đích.\n",
    "    \"\"\"\n",
    "    # Mở file đích (nếu đã tồn tại, sẽ thêm các sheet mới)\n",
    "    with pd.ExcelWriter(destination_file, engine=\"openpyxl\", mode=\"a\") as writer:\n",
    "        # Duyệt qua tất cả các file trong thư mục\n",
    "        for filename in os.listdir(input_folder):\n",
    "            if filename.endswith(\".xlsx\") or filename.endswith(\".xls\"):  # Lọc file Excel\n",
    "                source_file = os.path.join(input_folder, filename)\n",
    "                \n",
    "                try:\n",
    "                    # Đọc tất cả các sheet từ file nguồn\n",
    "                    source_sheets = pd.read_excel(source_file, sheet_name=None)  # sheet_name=None để đọc tất cả các sheet\n",
    "                    \n",
    "                    # Lặp qua từng sheet và sao chép vào file đích\n",
    "                    for sheet_name, df in source_sheets.items():\n",
    "                        sheet_name_new = f\"{sheet_name}\"  \n",
    "                        \n",
    "                        # Ghi sheet vào file đích\n",
    "                        df.to_excel(writer, sheet_name=sheet_name_new, index=False)\n",
    "                    \n",
    "                    print(f\"Đã sao chép tất cả các sheet từ '{source_file}' vào '{destination_file}'.\")\n",
    "\n",
    "                except Exception as e:\n",
    "                    print(f\"Lỗi khi xử lý file {source_file}: {e}\")\n",
    "    # Thông báo khi tất cả đã hoàn tất\n",
    "        print(\"Hoàn tất sao chép tất cả các sheet từ các file trong thư mục vào file đích.\")\n",
    "    "
   ]
  },
  {
   "cell_type": "code",
   "execution_count": 30,
   "metadata": {},
   "outputs": [
    {
     "name": "stdout",
     "output_type": "stream",
     "text": [
      "Đã sao chép tất cả các sheet từ 'C:\\Users\\Trinh\\Downloads\\Florida (FL)\\Florida (FL) (1).xlsx' vào 'C:\\Users\\Trinh\\Downloads\\Florida (FL).xlsx'.\n",
      "Đã sao chép tất cả các sheet từ 'C:\\Users\\Trinh\\Downloads\\Florida (FL)\\Florida (FL) - 01 (1).xlsx' vào 'C:\\Users\\Trinh\\Downloads\\Florida (FL).xlsx'.\n",
      "Hoàn tất sao chép tất cả các sheet từ các file trong thư mục vào file đích.\n"
     ]
    }
   ],
   "source": [
    "# Thư mục chứa các file Excel nguồn\n",
    "input_folder = r\"C:\\Users\\Trinh\\Downloads\\Florida (FL)\"\n",
    "\n",
    "# Đường dẫn file Excel đích\n",
    "destination_file = r\"C:\\Users\\Trinh\\Downloads\\Florida (FL).xlsx\"\n",
    "\n",
    "# Thực thi hàm\n",
    "copy_sheets_from_folder_to_destination(input_folder, destination_file)"
   ]
  },
  {
   "cell_type": "code",
   "execution_count": 31,
   "metadata": {},
   "outputs": [],
   "source": [
    "def count_sheets(file_path):\n",
    "    \"\"\"\n",
    "    Đếm số lượng sheet trong file Excel.\n",
    "    \"\"\"\n",
    "    try:\n",
    "        sheets = pd.ExcelFile(file_path).sheet_names  # Lấy danh sách tên sheet\n",
    "        sheet_count = len(sheets)\n",
    "        print(f\"Số lượng sheet trong '{file_path}': {sheet_count}\")\n",
    "        return sheet_count\n",
    "    except Exception as e:\n",
    "        print(f\"Lỗi khi đọc file '{file_path}': {e}\")\n",
    "        return None"
   ]
  },
  {
   "cell_type": "code",
   "execution_count": 32,
   "metadata": {},
   "outputs": [
    {
     "name": "stdout",
     "output_type": "stream",
     "text": [
      "Số lượng sheet trong 'C:\\Users\\Trinh\\Downloads\\Florida (FL).xlsx': 67\n"
     ]
    },
    {
     "data": {
      "text/plain": [
       "67"
      ]
     },
     "execution_count": 32,
     "metadata": {},
     "output_type": "execute_result"
    }
   ],
   "source": [
    "# Thực thi hàm đếm sheet\n",
    "count_sheets(destination_file)"
   ]
  }
 ],
 "metadata": {
  "kernelspec": {
   "display_name": "Python 3",
   "language": "python",
   "name": "python3"
  },
  "language_info": {
   "codemirror_mode": {
    "name": "ipython",
    "version": 3
   },
   "file_extension": ".py",
   "mimetype": "text/x-python",
   "name": "python",
   "nbconvert_exporter": "python",
   "pygments_lexer": "ipython3",
   "version": "3.11.2"
  }
 },
 "nbformat": 4,
 "nbformat_minor": 2
}
